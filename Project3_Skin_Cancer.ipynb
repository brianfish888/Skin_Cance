{
  "cells": [
    {
      "cell_type": "markdown",
      "metadata": {
        "id": "view-in-github",
        "colab_type": "text"
      },
      "source": [
        "<a href=\"https://colab.research.google.com/github/brianfish888/Skin_Cance/blob/main/Project3_Skin_Cancer.ipynb\" target=\"_parent\"><img src=\"https://colab.research.google.com/assets/colab-badge.svg\" alt=\"Open In Colab\"/></a>"
      ]
    },
    {
      "cell_type": "markdown",
      "metadata": {
        "id": "FqKcnA8_KhQk"
      },
      "source": [
        "## 資料來源\n",
        "Skin Cancer MNIST: HAM10000 https://www.kaggle.com/kmader/skin-cancer-mnist-ham10000"
      ]
    },
    {
      "cell_type": "markdown",
      "metadata": {
        "id": "SrIpVxPUW6Wc"
      },
      "source": [
        "### 資料準備"
      ]
    },
    {
      "cell_type": "code",
      "execution_count": null,
      "metadata": {
        "id": "Euy03USAW6Wf"
      },
      "outputs": [],
      "source": [
        "#keras.utils: 做one-hot encoding用\n",
        "#sklearn.model_selection: 分割訓練集和測試集\n",
        "#os: 用來建立檔案、刪除檔案\n",
        "#PIL: (圖像處理庫)匯入圖像\n",
        "#seed: 設定種子，使每次隨機產生的資料有相同結果。可將數字改成自己的學號(或其他數字)\n",
        "import numpy as np\n",
        "import pandas as pd\n",
        "from keras.utils import np_utils\n",
        "from sklearn.model_selection import train_test_split\n",
        "import os\n",
        "from PIL import Image\n",
        "np.random.seed(409570389)"
      ]
    },
    {
      "cell_type": "code",
      "execution_count": null,
      "metadata": {
        "id": "Hll3Nn6_W6Wi"
      },
      "outputs": [],
      "source": [
        "#7項皮膚疾病簡稱與全名\n",
        "lesion_type_dict = {\n",
        "    'nv': 'Melanocytic nevi',\n",
        "    'mel': 'Melanoma',\n",
        "    'bkl': 'Benign keratosis-like lesions ',\n",
        "    'bcc': 'Basal cell carcinoma',\n",
        "    'akiec': 'Actinic keratoses',\n",
        "    'vasc': 'Vascular lesions',\n",
        "    'df': 'Dermatofibroma'\n",
        "}"
      ]
    },
    {
      "cell_type": "code",
      "execution_count": null,
      "metadata": {
        "colab": {
          "base_uri": "https://localhost:8080/"
        },
        "id": "dym8GPaBhjeI",
        "outputId": "30347922-163f-46ec-fd93-779f8c729862"
      },
      "outputs": [
        {
          "output_type": "execute_result",
          "data": {
            "text/plain": [
              "array([5, 4, 2, 1, 0, 6, 3], dtype=int8)"
            ]
          },
          "metadata": {},
          "execution_count": 4
        }
      ],
      "source": [
        "pd.Categorical(lesion_type_dict).codes"
      ]
    },
    {
      "cell_type": "code",
      "execution_count": null,
      "metadata": {
        "colab": {
          "base_uri": "https://localhost:8080/"
        },
        "id": "VrEFOfuxz9CW",
        "outputId": "e8b23c39-1c62-4e96-c092-1cc5207b7a49"
      },
      "outputs": [
        {
          "output_type": "stream",
          "name": "stdout",
          "text": [
            "Found existing installation: gdown 4.4.0\n",
            "Uninstalling gdown-4.4.0:\n",
            "  Successfully uninstalled gdown-4.4.0\n",
            "Looking in indexes: https://pypi.org/simple, https://us-python.pkg.dev/colab-wheels/public/simple/\n",
            "Collecting gdown\n",
            "  Downloading gdown-4.6.0-py3-none-any.whl (14 kB)\n",
            "Requirement already satisfied: six in /usr/local/lib/python3.8/dist-packages (from gdown) (1.15.0)\n",
            "Requirement already satisfied: beautifulsoup4 in /usr/local/lib/python3.8/dist-packages (from gdown) (4.6.3)\n",
            "Requirement already satisfied: requests[socks] in /usr/local/lib/python3.8/dist-packages (from gdown) (2.23.0)\n",
            "Requirement already satisfied: tqdm in /usr/local/lib/python3.8/dist-packages (from gdown) (4.64.1)\n",
            "Requirement already satisfied: filelock in /usr/local/lib/python3.8/dist-packages (from gdown) (3.8.2)\n",
            "Requirement already satisfied: idna<3,>=2.5 in /usr/local/lib/python3.8/dist-packages (from requests[socks]->gdown) (2.10)\n",
            "Requirement already satisfied: chardet<4,>=3.0.2 in /usr/local/lib/python3.8/dist-packages (from requests[socks]->gdown) (3.0.4)\n",
            "Requirement already satisfied: certifi>=2017.4.17 in /usr/local/lib/python3.8/dist-packages (from requests[socks]->gdown) (2022.12.7)\n",
            "Requirement already satisfied: urllib3!=1.25.0,!=1.25.1,<1.26,>=1.21.1 in /usr/local/lib/python3.8/dist-packages (from requests[socks]->gdown) (1.24.3)\n",
            "Requirement already satisfied: PySocks!=1.5.7,>=1.5.6 in /usr/local/lib/python3.8/dist-packages (from requests[socks]->gdown) (1.7.1)\n",
            "Installing collected packages: gdown\n",
            "Successfully installed gdown-4.6.0\n",
            "gdown 4.6.0 at /usr/local/lib/python3.8/dist-packages\n"
          ]
        }
      ],
      "source": [
        "!pip uninstall gdown -y && pip install gdown\n",
        "!gdown -V"
      ]
    },
    {
      "cell_type": "code",
      "execution_count": null,
      "metadata": {
        "colab": {
          "base_uri": "https://localhost:8080/",
          "height": 105
        },
        "id": "G7a8FOby0ApS",
        "outputId": "5f2e496f-d1fb-496f-db34-aaef904d0a8d"
      },
      "outputs": [
        {
          "output_type": "stream",
          "name": "stderr",
          "text": [
            "Downloading...\n",
            "From: https://drive.google.com/uc?id=1kklF0GDZ-4Vh52MIdTexky6Bqzek7S-c\n",
            "To: /content/project03.zip\n",
            "100%|██████████| 26.6M/26.6M [00:00<00:00, 78.7MB/s]\n"
          ]
        },
        {
          "output_type": "execute_result",
          "data": {
            "text/plain": [
              "'project03.zip'"
            ],
            "application/vnd.google.colaboratory.intrinsic+json": {
              "type": "string"
            }
          },
          "metadata": {},
          "execution_count": 6
        }
      ],
      "source": [
        "# Download from Google Drive\n",
        "import gdown\n",
        "url = 'https://drive.google.com/uc?id=1kklF0GDZ-4Vh52MIdTexky6Bqzek7S-c'\n",
        "output = 'project03.zip'\n",
        "gdown.download(url, output, quiet=False)"
      ]
    },
    {
      "cell_type": "code",
      "execution_count": null,
      "metadata": {
        "colab": {
          "base_uri": "https://localhost:8080/"
        },
        "id": "vo21fcddNwZ3",
        "outputId": "7328c363-043e-4cec-fa3b-f85f76f87147"
      },
      "outputs": [
        {
          "output_type": "stream",
          "name": "stdout",
          "text": [
            "Archive:  project03.zip\n",
            "  inflating: project3_test.csv       \n",
            "  inflating: project3_train.csv      \n"
          ]
        }
      ],
      "source": [
        "!unzip project03.zip"
      ]
    },
    {
      "cell_type": "code",
      "execution_count": null,
      "metadata": {
        "id": "kbjekU96W6Wj"
      },
      "outputs": [],
      "source": [
        "#讀取影像資料，28*28*3個像素值欄位(pixel0000-pixel2351) + 1個分類類別欄位label\n",
        "load_img = pd.read_csv('project3_train.csv')"
      ]
    },
    {
      "cell_type": "code",
      "execution_count": null,
      "metadata": {
        "colab": {
          "base_uri": "https://localhost:8080/",
          "height": 299
        },
        "id": "DP0POhPcW6Wk",
        "outputId": "7634765c-3178-478b-ad9c-af578534abc2",
        "scrolled": true
      },
      "outputs": [
        {
          "output_type": "execute_result",
          "data": {
            "text/plain": [
              "   pixel0000  pixel0001  pixel0002  pixel0003  pixel0004  pixel0005  \\\n",
              "0         30         15         20         35         19         27   \n",
              "1          1          0          0          7          1          5   \n",
              "2        129         91         92        182        145        145   \n",
              "3          9          8          8         11         10         10   \n",
              "4         26         13         19         25         10         17   \n",
              "\n",
              "   pixel0006  pixel0007  pixel0008  pixel0009  ...  pixel2343  pixel2344  \\\n",
              "0         94         69         73        152  ...         22          9   \n",
              "1        103         56         68        192  ...        127         72   \n",
              "2        205        169        168        189  ...         64         39   \n",
              "3         10          9          9         24  ...         11          9   \n",
              "4         24          6          5         23  ...         22          6   \n",
              "\n",
              "   pixel2345  pixel2346  pixel2347  pixel2348  pixel2349  pixel2350  \\\n",
              "0         13         11          2          4          9          1   \n",
              "1         74         24          5          6          0          1   \n",
              "2         41          5          2          6          2          2   \n",
              "3         10          8          7          7          5          5   \n",
              "4          9         27          9         10         23          5   \n",
              "\n",
              "   pixel2351  label  \n",
              "0          0      0  \n",
              "1          1      0  \n",
              "2          1      0  \n",
              "3          5      0  \n",
              "4          6      0  \n",
              "\n",
              "[5 rows x 2353 columns]"
            ],
            "text/html": [
              "\n",
              "  <div id=\"df-eb0d8b8e-83b2-442e-8fef-9947bda72fc1\">\n",
              "    <div class=\"colab-df-container\">\n",
              "      <div>\n",
              "<style scoped>\n",
              "    .dataframe tbody tr th:only-of-type {\n",
              "        vertical-align: middle;\n",
              "    }\n",
              "\n",
              "    .dataframe tbody tr th {\n",
              "        vertical-align: top;\n",
              "    }\n",
              "\n",
              "    .dataframe thead th {\n",
              "        text-align: right;\n",
              "    }\n",
              "</style>\n",
              "<table border=\"1\" class=\"dataframe\">\n",
              "  <thead>\n",
              "    <tr style=\"text-align: right;\">\n",
              "      <th></th>\n",
              "      <th>pixel0000</th>\n",
              "      <th>pixel0001</th>\n",
              "      <th>pixel0002</th>\n",
              "      <th>pixel0003</th>\n",
              "      <th>pixel0004</th>\n",
              "      <th>pixel0005</th>\n",
              "      <th>pixel0006</th>\n",
              "      <th>pixel0007</th>\n",
              "      <th>pixel0008</th>\n",
              "      <th>pixel0009</th>\n",
              "      <th>...</th>\n",
              "      <th>pixel2343</th>\n",
              "      <th>pixel2344</th>\n",
              "      <th>pixel2345</th>\n",
              "      <th>pixel2346</th>\n",
              "      <th>pixel2347</th>\n",
              "      <th>pixel2348</th>\n",
              "      <th>pixel2349</th>\n",
              "      <th>pixel2350</th>\n",
              "      <th>pixel2351</th>\n",
              "      <th>label</th>\n",
              "    </tr>\n",
              "  </thead>\n",
              "  <tbody>\n",
              "    <tr>\n",
              "      <th>0</th>\n",
              "      <td>30</td>\n",
              "      <td>15</td>\n",
              "      <td>20</td>\n",
              "      <td>35</td>\n",
              "      <td>19</td>\n",
              "      <td>27</td>\n",
              "      <td>94</td>\n",
              "      <td>69</td>\n",
              "      <td>73</td>\n",
              "      <td>152</td>\n",
              "      <td>...</td>\n",
              "      <td>22</td>\n",
              "      <td>9</td>\n",
              "      <td>13</td>\n",
              "      <td>11</td>\n",
              "      <td>2</td>\n",
              "      <td>4</td>\n",
              "      <td>9</td>\n",
              "      <td>1</td>\n",
              "      <td>0</td>\n",
              "      <td>0</td>\n",
              "    </tr>\n",
              "    <tr>\n",
              "      <th>1</th>\n",
              "      <td>1</td>\n",
              "      <td>0</td>\n",
              "      <td>0</td>\n",
              "      <td>7</td>\n",
              "      <td>1</td>\n",
              "      <td>5</td>\n",
              "      <td>103</td>\n",
              "      <td>56</td>\n",
              "      <td>68</td>\n",
              "      <td>192</td>\n",
              "      <td>...</td>\n",
              "      <td>127</td>\n",
              "      <td>72</td>\n",
              "      <td>74</td>\n",
              "      <td>24</td>\n",
              "      <td>5</td>\n",
              "      <td>6</td>\n",
              "      <td>0</td>\n",
              "      <td>1</td>\n",
              "      <td>1</td>\n",
              "      <td>0</td>\n",
              "    </tr>\n",
              "    <tr>\n",
              "      <th>2</th>\n",
              "      <td>129</td>\n",
              "      <td>91</td>\n",
              "      <td>92</td>\n",
              "      <td>182</td>\n",
              "      <td>145</td>\n",
              "      <td>145</td>\n",
              "      <td>205</td>\n",
              "      <td>169</td>\n",
              "      <td>168</td>\n",
              "      <td>189</td>\n",
              "      <td>...</td>\n",
              "      <td>64</td>\n",
              "      <td>39</td>\n",
              "      <td>41</td>\n",
              "      <td>5</td>\n",
              "      <td>2</td>\n",
              "      <td>6</td>\n",
              "      <td>2</td>\n",
              "      <td>2</td>\n",
              "      <td>1</td>\n",
              "      <td>0</td>\n",
              "    </tr>\n",
              "    <tr>\n",
              "      <th>3</th>\n",
              "      <td>9</td>\n",
              "      <td>8</td>\n",
              "      <td>8</td>\n",
              "      <td>11</td>\n",
              "      <td>10</td>\n",
              "      <td>10</td>\n",
              "      <td>10</td>\n",
              "      <td>9</td>\n",
              "      <td>9</td>\n",
              "      <td>24</td>\n",
              "      <td>...</td>\n",
              "      <td>11</td>\n",
              "      <td>9</td>\n",
              "      <td>10</td>\n",
              "      <td>8</td>\n",
              "      <td>7</td>\n",
              "      <td>7</td>\n",
              "      <td>5</td>\n",
              "      <td>5</td>\n",
              "      <td>5</td>\n",
              "      <td>0</td>\n",
              "    </tr>\n",
              "    <tr>\n",
              "      <th>4</th>\n",
              "      <td>26</td>\n",
              "      <td>13</td>\n",
              "      <td>19</td>\n",
              "      <td>25</td>\n",
              "      <td>10</td>\n",
              "      <td>17</td>\n",
              "      <td>24</td>\n",
              "      <td>6</td>\n",
              "      <td>5</td>\n",
              "      <td>23</td>\n",
              "      <td>...</td>\n",
              "      <td>22</td>\n",
              "      <td>6</td>\n",
              "      <td>9</td>\n",
              "      <td>27</td>\n",
              "      <td>9</td>\n",
              "      <td>10</td>\n",
              "      <td>23</td>\n",
              "      <td>5</td>\n",
              "      <td>6</td>\n",
              "      <td>0</td>\n",
              "    </tr>\n",
              "  </tbody>\n",
              "</table>\n",
              "<p>5 rows × 2353 columns</p>\n",
              "</div>\n",
              "      <button class=\"colab-df-convert\" onclick=\"convertToInteractive('df-eb0d8b8e-83b2-442e-8fef-9947bda72fc1')\"\n",
              "              title=\"Convert this dataframe to an interactive table.\"\n",
              "              style=\"display:none;\">\n",
              "        \n",
              "  <svg xmlns=\"http://www.w3.org/2000/svg\" height=\"24px\"viewBox=\"0 0 24 24\"\n",
              "       width=\"24px\">\n",
              "    <path d=\"M0 0h24v24H0V0z\" fill=\"none\"/>\n",
              "    <path d=\"M18.56 5.44l.94 2.06.94-2.06 2.06-.94-2.06-.94-.94-2.06-.94 2.06-2.06.94zm-11 1L8.5 8.5l.94-2.06 2.06-.94-2.06-.94L8.5 2.5l-.94 2.06-2.06.94zm10 10l.94 2.06.94-2.06 2.06-.94-2.06-.94-.94-2.06-.94 2.06-2.06.94z\"/><path d=\"M17.41 7.96l-1.37-1.37c-.4-.4-.92-.59-1.43-.59-.52 0-1.04.2-1.43.59L10.3 9.45l-7.72 7.72c-.78.78-.78 2.05 0 2.83L4 21.41c.39.39.9.59 1.41.59.51 0 1.02-.2 1.41-.59l7.78-7.78 2.81-2.81c.8-.78.8-2.07 0-2.86zM5.41 20L4 18.59l7.72-7.72 1.47 1.35L5.41 20z\"/>\n",
              "  </svg>\n",
              "      </button>\n",
              "      \n",
              "  <style>\n",
              "    .colab-df-container {\n",
              "      display:flex;\n",
              "      flex-wrap:wrap;\n",
              "      gap: 12px;\n",
              "    }\n",
              "\n",
              "    .colab-df-convert {\n",
              "      background-color: #E8F0FE;\n",
              "      border: none;\n",
              "      border-radius: 50%;\n",
              "      cursor: pointer;\n",
              "      display: none;\n",
              "      fill: #1967D2;\n",
              "      height: 32px;\n",
              "      padding: 0 0 0 0;\n",
              "      width: 32px;\n",
              "    }\n",
              "\n",
              "    .colab-df-convert:hover {\n",
              "      background-color: #E2EBFA;\n",
              "      box-shadow: 0px 1px 2px rgba(60, 64, 67, 0.3), 0px 1px 3px 1px rgba(60, 64, 67, 0.15);\n",
              "      fill: #174EA6;\n",
              "    }\n",
              "\n",
              "    [theme=dark] .colab-df-convert {\n",
              "      background-color: #3B4455;\n",
              "      fill: #D2E3FC;\n",
              "    }\n",
              "\n",
              "    [theme=dark] .colab-df-convert:hover {\n",
              "      background-color: #434B5C;\n",
              "      box-shadow: 0px 1px 3px 1px rgba(0, 0, 0, 0.15);\n",
              "      filter: drop-shadow(0px 1px 2px rgba(0, 0, 0, 0.3));\n",
              "      fill: #FFFFFF;\n",
              "    }\n",
              "  </style>\n",
              "\n",
              "      <script>\n",
              "        const buttonEl =\n",
              "          document.querySelector('#df-eb0d8b8e-83b2-442e-8fef-9947bda72fc1 button.colab-df-convert');\n",
              "        buttonEl.style.display =\n",
              "          google.colab.kernel.accessAllowed ? 'block' : 'none';\n",
              "\n",
              "        async function convertToInteractive(key) {\n",
              "          const element = document.querySelector('#df-eb0d8b8e-83b2-442e-8fef-9947bda72fc1');\n",
              "          const dataTable =\n",
              "            await google.colab.kernel.invokeFunction('convertToInteractive',\n",
              "                                                     [key], {});\n",
              "          if (!dataTable) return;\n",
              "\n",
              "          const docLinkHtml = 'Like what you see? Visit the ' +\n",
              "            '<a target=\"_blank\" href=https://colab.research.google.com/notebooks/data_table.ipynb>data table notebook</a>'\n",
              "            + ' to learn more about interactive tables.';\n",
              "          element.innerHTML = '';\n",
              "          dataTable['output_type'] = 'display_data';\n",
              "          await google.colab.output.renderOutput(dataTable, element);\n",
              "          const docLink = document.createElement('div');\n",
              "          docLink.innerHTML = docLinkHtml;\n",
              "          element.appendChild(docLink);\n",
              "        }\n",
              "      </script>\n",
              "    </div>\n",
              "  </div>\n",
              "  "
            ]
          },
          "metadata": {},
          "execution_count": 9
        }
      ],
      "source": [
        "#列出data的標籤\n",
        "load_img.head()"
      ]
    },
    {
      "cell_type": "code",
      "execution_count": null,
      "metadata": {
        "colab": {
          "base_uri": "https://localhost:8080/"
        },
        "id": "uZffXRF8W6Wk",
        "outputId": "5fc09ea5-f16e-4f9b-c4a3-ff975de4e673"
      },
      "outputs": [
        {
          "output_type": "execute_result",
          "data": {
            "text/plain": [
              "(8008, 2353)"
            ]
          },
          "metadata": {},
          "execution_count": 10
        }
      ],
      "source": [
        "#檢查讀取圖片的大小與數量\n",
        "load_img.shape"
      ]
    },
    {
      "cell_type": "code",
      "execution_count": null,
      "metadata": {
        "colab": {
          "base_uri": "https://localhost:8080/"
        },
        "id": "KiiHOi13ijJ1",
        "outputId": "7b8d4c98-b353-440a-c5af-361f62eb9a89"
      },
      "outputs": [
        {
          "output_type": "execute_result",
          "data": {
            "text/plain": [
              "array([[ 30,  15,  20, ...,   9,   1,   0],\n",
              "       [  1,   0,   0, ...,   0,   1,   1],\n",
              "       [129,  91,  92, ...,   2,   2,   1],\n",
              "       ...,\n",
              "       [127, 101, 108, ..., 121, 108, 125],\n",
              "       [157,  82,  86, ..., 210, 126, 130],\n",
              "       [176, 149, 166, ..., 175, 142, 159]])"
            ]
          },
          "metadata": {},
          "execution_count": 11
        }
      ],
      "source": [
        "load_img.iloc[: , :-1].values"
      ]
    },
    {
      "cell_type": "code",
      "execution_count": null,
      "metadata": {
        "id": "WV-MUvlxW6Wl"
      },
      "outputs": [],
      "source": [
        "#iloc選取特定範圍，讀取種類編號\n",
        "X_img , y_label = load_img.iloc[: , :-1].values , load_img.iloc[: , -1].values"
      ]
    },
    {
      "cell_type": "code",
      "execution_count": null,
      "metadata": {
        "id": "Swsho2fUW6Wm"
      },
      "outputs": [],
      "source": [
        "#將串列轉成矩陣\n",
        "X_img_train = np.asarray(X_img.tolist())\n",
        "\n",
        "#將一維的數據，轉換成三維(長*寬*RGB三色)\n",
        "X_img_train=X_img_train.reshape(X_img_train.shape[0],28,28,3)"
      ]
    },
    {
      "cell_type": "code",
      "execution_count": null,
      "metadata": {
        "colab": {
          "base_uri": "https://localhost:8080/"
        },
        "id": "2zL55KNgW6Wn",
        "outputId": "3773ad70-524b-4db9-c6f4-18d3bf5895fc"
      },
      "outputs": [
        {
          "output_type": "stream",
          "name": "stdout",
          "text": [
            "train data: images: (8008, 28, 28, 3)  labels: (8008,)\n"
          ]
        }
      ],
      "source": [
        "#檢查學習資料的照片數量、尺寸大小、維度\n",
        "print(\"train data:\",'images:',X_img_train.shape,\" labels:\",y_label.shape)"
      ]
    },
    {
      "cell_type": "code",
      "execution_count": null,
      "metadata": {
        "id": "-3mFTd1qW6Wn"
      },
      "outputs": [],
      "source": [
        "#標準化: 同除255(因為image的數字是0~255)\n",
        "X_img_train_normalize = X_img_train.astype('float32') / 255.0"
      ]
    },
    {
      "cell_type": "code",
      "execution_count": null,
      "metadata": {
        "id": "OlWZ2HiGW6Wo"
      },
      "outputs": [],
      "source": [
        "#使用np_utils.to_categorical()傳入各參數的label標籤欄位，再執行OneHot encoding (轉成0或1的組合)\n",
        "y_label_train_OneHot = np_utils.to_categorical(y_label)"
      ]
    },
    {
      "cell_type": "code",
      "execution_count": null,
      "metadata": {
        "colab": {
          "base_uri": "https://localhost:8080/"
        },
        "id": "4KWNp4ccW6Wo",
        "outputId": "01d062e6-1891-4e14-ff87-eede981c310f"
      },
      "outputs": [
        {
          "output_type": "execute_result",
          "data": {
            "text/plain": [
              "(8008, 7)"
            ]
          },
          "metadata": {},
          "execution_count": 17
        }
      ],
      "source": [
        "#檢查標籤總共有多少種分類\n",
        "#這裡是共8008筆資料，每筆是7個0或1的組合\n",
        "y_label_train_OneHot.shape"
      ]
    },
    {
      "cell_type": "markdown",
      "metadata": {
        "id": "1H3QsbaKW6Wp"
      },
      "source": [
        "### 建立與訓練CNN模型"
      ]
    },
    {
      "cell_type": "code",
      "execution_count": null,
      "metadata": {
        "id": "2FI00vSgW6Wp"
      },
      "outputs": [],
      "source": [
        "#匯入keras中的Sequential、layers模組(Dense、 Dropout、 Activation、 Flatten、Conv2D、 MaxPooling2D、 ZeroPadding2D)\n",
        "from keras.models import Sequential\n",
        "from keras.layers import Dense, Dropout, Activation, Flatten\n",
        "from keras.layers import Conv2D, MaxPooling2D, ZeroPadding2D"
      ]
    },
    {
      "cell_type": "code",
      "execution_count": null,
      "metadata": {
        "id": "r0NPL_dOjOmE"
      },
      "outputs": [],
      "source": [
        "# Design your CNN model\n",
        "model_cnn = Sequential()\n",
        "model_cnn.add(Conv2D(filters=64,kernel_size=(5, 5),input_shape=(X_img_train.shape[1], X_img_train.shape[2],3),activation='relu', padding='same'))"
      ]
    },
    {
      "cell_type": "code",
      "execution_count": null,
      "metadata": {
        "id": "WKvOA89Htuzo"
      },
      "outputs": [],
      "source": [
        "model_cnn.add(Conv2D(filters=64, kernel_size=(5, 5),activation='relu', padding='same'))\n",
        "model_cnn.add(MaxPooling2D(pool_size=(2, 2)))\n",
        "model_cnn.add(Conv2D(filters=128, kernel_size=(5, 5),activation='relu', padding='same'))\n",
        "model_cnn.add(Conv2D(filters=128, kernel_size=(5, 5),activation='relu', padding='same'))\n",
        "model_cnn.add(MaxPooling2D(pool_size=(2, 2)))\n",
        "model_cnn.add(Conv2D(filters=256, kernel_size=(5, 5), activation='relu', padding='same'))\n",
        "model_cnn.add(Conv2D(filters=256, kernel_size=(5, 5), activation='relu', padding='same'))\n",
        "model_cnn.add(MaxPooling2D(pool_size=(2, 2)))\n",
        "model_cnn.add(Conv2D(filters=512, kernel_size=(5, 5), activation='relu', padding='same'))\n",
        "model_cnn.add(Conv2D(filters=512, kernel_size=(5, 5), activation='relu', padding='same'))\n",
        "model_cnn.add(MaxPooling2D(pool_size=(2, 2)))\n",
        "model_cnn.add(Flatten())\n",
        "model_cnn.add(Dense(256, activation='relu'))\n",
        "model_cnn.add(Dropout(0.25))\n",
        "model_cnn.add(Dense(128, activation='relu'))\n",
        "model_cnn.add(Dropout(0.25))\n",
        "model_cnn.add(Dense(64, activation='relu'))\n",
        "model_cnn.add(Dropout(0.25))\n",
        "model_cnn.add(Dense(32, activation='relu'))\n",
        "model_cnn.add(Dropout(0.25))\n",
        "model_cnn.add(Dense(7, activation='softmax'))"
      ]
    },
    {
      "cell_type": "code",
      "execution_count": null,
      "metadata": {
        "colab": {
          "base_uri": "https://localhost:8080/"
        },
        "id": "WnEv_quXt2_Z",
        "outputId": "417fe2dc-718c-4b0a-ac28-214793759c0d"
      },
      "outputs": [
        {
          "output_type": "stream",
          "name": "stdout",
          "text": [
            "Model: \"sequential_1\"\n",
            "_________________________________________________________________\n",
            " Layer (type)                Output Shape              Param #   \n",
            "=================================================================\n",
            " conv2d_8 (Conv2D)           (None, 28, 28, 64)        4864      \n",
            "                                                                 \n",
            " conv2d_9 (Conv2D)           (None, 28, 28, 64)        102464    \n",
            "                                                                 \n",
            " max_pooling2d_4 (MaxPooling  (None, 14, 14, 64)       0         \n",
            " 2D)                                                             \n",
            "                                                                 \n",
            " conv2d_10 (Conv2D)          (None, 14, 14, 128)       204928    \n",
            "                                                                 \n",
            " conv2d_11 (Conv2D)          (None, 14, 14, 128)       409728    \n",
            "                                                                 \n",
            " max_pooling2d_5 (MaxPooling  (None, 7, 7, 128)        0         \n",
            " 2D)                                                             \n",
            "                                                                 \n",
            " conv2d_12 (Conv2D)          (None, 7, 7, 256)         819456    \n",
            "                                                                 \n",
            " conv2d_13 (Conv2D)          (None, 7, 7, 256)         1638656   \n",
            "                                                                 \n",
            " max_pooling2d_6 (MaxPooling  (None, 3, 3, 256)        0         \n",
            " 2D)                                                             \n",
            "                                                                 \n",
            " conv2d_14 (Conv2D)          (None, 3, 3, 512)         3277312   \n",
            "                                                                 \n",
            " conv2d_15 (Conv2D)          (None, 3, 3, 512)         6554112   \n",
            "                                                                 \n",
            " max_pooling2d_7 (MaxPooling  (None, 1, 1, 512)        0         \n",
            " 2D)                                                             \n",
            "                                                                 \n",
            " flatten_1 (Flatten)         (None, 512)               0         \n",
            "                                                                 \n",
            " dense_5 (Dense)             (None, 256)               131328    \n",
            "                                                                 \n",
            " dropout_4 (Dropout)         (None, 256)               0         \n",
            "                                                                 \n",
            " dense_6 (Dense)             (None, 128)               32896     \n",
            "                                                                 \n",
            " dropout_5 (Dropout)         (None, 128)               0         \n",
            "                                                                 \n",
            " dense_7 (Dense)             (None, 64)                8256      \n",
            "                                                                 \n",
            " dropout_6 (Dropout)         (None, 64)                0         \n",
            "                                                                 \n",
            " dense_8 (Dense)             (None, 32)                2080      \n",
            "                                                                 \n",
            " dropout_7 (Dropout)         (None, 32)                0         \n",
            "                                                                 \n",
            " dense_9 (Dense)             (None, 7)                 231       \n",
            "                                                                 \n",
            "=================================================================\n",
            "Total params: 13,186,311\n",
            "Trainable params: 13,186,311\n",
            "Non-trainable params: 0\n",
            "_________________________________________________________________\n"
          ]
        }
      ],
      "source": [
        "model_cnn.summary()"
      ]
    },
    {
      "cell_type": "code",
      "execution_count": null,
      "metadata": {
        "id": "Q89oh2s3udqh"
      },
      "outputs": [],
      "source": [
        "model_cnn.compile(loss='categorical_crossentropy',\n",
        "       optimizer='adam', metrics=['categorical_accuracy'])"
      ]
    },
    {
      "cell_type": "code",
      "execution_count": null,
      "metadata": {
        "colab": {
          "base_uri": "https://localhost:8080/"
        },
        "id": "JvZHxpBPul_e",
        "outputId": "d326cab1-9b32-4586-ef9d-f78e7fa033bb"
      },
      "outputs": [
        {
          "output_type": "stream",
          "name": "stdout",
          "text": [
            "Epoch 1/10\n",
            "201/201 [==============================] - 9s 39ms/step - loss: 0.8592 - categorical_accuracy: 0.7437 - val_loss: 5.5638 - val_categorical_accuracy: 0.3739\n",
            "Epoch 2/10\n",
            "201/201 [==============================] - 8s 38ms/step - loss: 0.8812 - categorical_accuracy: 0.7437 - val_loss: 5.7936 - val_categorical_accuracy: 0.3739\n",
            "Epoch 3/10\n",
            "201/201 [==============================] - 7s 37ms/step - loss: 1.1704 - categorical_accuracy: 0.7437 - val_loss: 5.7841 - val_categorical_accuracy: 0.3739\n",
            "Epoch 4/10\n",
            "201/201 [==============================] - 8s 38ms/step - loss: 0.8771 - categorical_accuracy: 0.7437 - val_loss: 6.4528 - val_categorical_accuracy: 0.3739\n",
            "Epoch 5/10\n",
            "201/201 [==============================] - 8s 38ms/step - loss: 0.8746 - categorical_accuracy: 0.7437 - val_loss: 7.0559 - val_categorical_accuracy: 0.3739\n",
            "Epoch 6/10\n",
            "201/201 [==============================] - 7s 37ms/step - loss: 0.8756 - categorical_accuracy: 0.7437 - val_loss: 6.7103 - val_categorical_accuracy: 0.3739\n",
            "Epoch 7/10\n",
            "201/201 [==============================] - 8s 38ms/step - loss: 0.8678 - categorical_accuracy: 0.7437 - val_loss: 7.0321 - val_categorical_accuracy: 0.3739\n",
            "Epoch 8/10\n",
            "201/201 [==============================] - 7s 37ms/step - loss: 0.8695 - categorical_accuracy: 0.7437 - val_loss: 7.2230 - val_categorical_accuracy: 0.3739\n",
            "Epoch 9/10\n",
            "201/201 [==============================] - 7s 37ms/step - loss: 0.8703 - categorical_accuracy: 0.7437 - val_loss: 7.0070 - val_categorical_accuracy: 0.3739\n",
            "Epoch 10/10\n",
            "201/201 [==============================] - 7s 37ms/step - loss: 0.8711 - categorical_accuracy: 0.7437 - val_loss: 7.1278 - val_categorical_accuracy: 0.3739\n"
          ]
        }
      ],
      "source": [
        "num_epoch=10\n",
        "batch_size=32\n",
        "train_history=model_cnn.fit(X_img_train_normalize, y_label_train_OneHot,\n",
        "                        validation_split=0.2,\n",
        "                        epochs=num_epoch, batch_size=batch_size, verbose=1)"
      ]
    },
    {
      "cell_type": "code",
      "execution_count": null,
      "metadata": {
        "id": "e5cpBWuakTOi"
      },
      "outputs": [],
      "source": [
        "# 使用最後的模型進行測試資料預測\n",
        "load_test_img = pd.read_csv('project3_test.csv')\n",
        "img_test = load_test_img.values"
      ]
    },
    {
      "cell_type": "code",
      "execution_count": null,
      "metadata": {
        "id": "DNiu0WdBkeGK"
      },
      "outputs": [],
      "source": [
        "x_test=img_test.reshape(img_test.shape[0],28,28,3)\n",
        "x_test_normalize = x_test.astype('float32') / 255.0"
      ]
    },
    {
      "cell_type": "code",
      "execution_count": null,
      "metadata": {
        "id": "yO1WNWdflZAC",
        "colab": {
          "base_uri": "https://localhost:8080/"
        },
        "outputId": "f73a5e78-952d-42e6-8c36-9f6e5e58c80f"
      },
      "outputs": [
        {
          "output_type": "stream",
          "name": "stdout",
          "text": [
            "63/63 [==============================] - 1s 15ms/step\n"
          ]
        }
      ],
      "source": [
        "df_submit = pd.DataFrame([], columns=['Id', 'Label'])\n",
        "df_submit['Id'] = [f'{i:04d}' for i in range(len(x_test_normalize))]\n",
        "df_submit['Label'] = np.argmax(model_cnn.predict(x_test_normalize), axis=-1)"
      ]
    },
    {
      "cell_type": "code",
      "execution_count": null,
      "metadata": {
        "id": "cMFSi44JlaTa"
      },
      "outputs": [],
      "source": [
        "df_submit.to_csv('submission_CNN.csv', index=None)"
      ]
    }
  ],
  "metadata": {
    "anaconda-cloud": {},
    "colab": {
      "collapsed_sections": [
        "1H3QsbaKW6Wp"
      ],
      "provenance": [],
      "include_colab_link": true
    },
    "gpuClass": "standard",
    "kernelspec": {
      "display_name": "Python 3",
      "language": "python",
      "name": "python3"
    },
    "language_info": {
      "codemirror_mode": {
        "name": "ipython",
        "version": 3
      },
      "file_extension": ".py",
      "mimetype": "text/x-python",
      "name": "python",
      "nbconvert_exporter": "python",
      "pygments_lexer": "ipython3",
      "version": "3.7.4"
    },
    "accelerator": "GPU"
  },
  "nbformat": 4,
  "nbformat_minor": 0
}